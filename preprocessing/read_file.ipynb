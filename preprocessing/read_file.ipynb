{
 "cells": [
  {
   "cell_type": "code",
   "execution_count": 1,
   "metadata": {},
   "outputs": [],
   "source": [
    "## 해당 경로에 있는 .csv 파일명 리스트 가져오기\n",
    "\n",
    "import os\n",
    "\n",
    "data_path = 'C:/따릉이 데이터셋/'\n",
    "file_list = os.listdir(data_path)\n",
    "file_list = [file for file in file_list if '시간대별'in file] ## 시간대별 데이터 불러오기"
   ]
  },
  {
   "cell_type": "code",
   "execution_count": 2,
   "metadata": {},
   "outputs": [
    {
     "data": {
      "text/plain": [
       "['서울특별시 공공자전거 이용정보(시간대별)_19.01.csv',\n",
       " '서울특별시 공공자전거 이용정보(시간대별)_19.02.csv',\n",
       " '서울특별시 공공자전거 이용정보(시간대별)_19.03.csv',\n",
       " '서울특별시 공공자전거 이용정보(시간대별)_19.04.csv',\n",
       " '서울특별시 공공자전거 이용정보(시간대별)_19.05.csv',\n",
       " '서울특별시 공공자전거 이용정보(시간대별)_19.06.csv',\n",
       " '서울특별시 공공자전거 이용정보(시간대별)_19.07.csv',\n",
       " '서울특별시 공공자전거 이용정보(시간대별)_19.08.csv',\n",
       " '서울특별시 공공자전거 이용정보(시간대별)_19.09.csv',\n",
       " '서울특별시 공공자전거 이용정보(시간대별)_19.10.csv',\n",
       " '서울특별시 공공자전거 이용정보(시간대별)_19.11.csv',\n",
       " '서울특별시 공공자전거 이용정보(시간대별)_19.12.csv',\n",
       " '서울특별시 공공자전거 이용정보(시간대별)_20.01.csv',\n",
       " '서울특별시 공공자전거 이용정보(시간대별)_20.02.csv',\n",
       " '서울특별시 공공자전거 이용정보(시간대별)_20.03.csv',\n",
       " '서울특별시 공공자전거 이용정보(시간대별)_20.04.csv',\n",
       " '서울특별시 공공자전거 이용정보(시간대별)_20.05.csv',\n",
       " '서울특별시 공공자전거 이용정보(시간대별)_20.06.csv',\n",
       " '서울특별시 공공자전거 이용정보(시간대별)_20.07.csv',\n",
       " '서울특별시 공공자전거 이용정보(시간대별)_20.08.csv',\n",
       " '서울특별시 공공자전거 이용정보(시간대별)_20.09.csv',\n",
       " '서울특별시 공공자전거 이용정보(시간대별)_20.10.csv',\n",
       " '서울특별시 공공자전거 이용정보(시간대별)_20.11.csv',\n",
       " '서울특별시 공공자전거 이용정보(시간대별)_20.12.csv',\n",
       " '서울특별시 공공자전거 이용정보(시간대별)_21.01.csv',\n",
       " '서울특별시 공공자전거 이용정보(시간대별)_21.02.csv',\n",
       " '서울특별시 공공자전거 이용정보(시간대별)_21.03.csv',\n",
       " '서울특별시 공공자전거 이용정보(시간대별)_21.04.csv',\n",
       " '서울특별시 공공자전거 이용정보(시간대별)_21.05.csv',\n",
       " '서울특별시 공공자전거 이용정보(시간대별)_21.06.csv',\n",
       " '서울특별시 공공자전거 이용정보(시간대별)_21.07.csv',\n",
       " '서울특별시 공공자전거 이용정보(시간대별)_21.08.csv',\n",
       " '서울특별시 공공자전거 이용정보(시간대별)_21.09.csv',\n",
       " '서울특별시 공공자전거 이용정보(시간대별)_21.10.csv',\n",
       " '서울특별시 공공자전거 이용정보(시간대별)_21.11.csv',\n",
       " '서울특별시 공공자전거 이용정보(시간대별)_21.12.csv',\n",
       " '서울특별시 공공자전거 이용정보(시간대별)_22.01.csv',\n",
       " '서울특별시 공공자전거 이용정보(시간대별)_22.02.csv',\n",
       " '서울특별시 공공자전거 이용정보(시간대별)_22.03.csv',\n",
       " '서울특별시 공공자전거 이용정보(시간대별)_22.04.csv',\n",
       " '서울특별시 공공자전거 이용정보(시간대별)_22.05.csv',\n",
       " '서울특별시 공공자전거 이용정보(시간대별)_22.06.csv']"
      ]
     },
     "execution_count": 2,
     "metadata": {},
     "output_type": "execute_result"
    }
   ],
   "source": [
    "file_list"
   ]
  },
  {
   "cell_type": "code",
   "execution_count": 3,
   "metadata": {},
   "outputs": [],
   "source": [
    "import glob\n",
    "\n",
    "file_path = glob.glob('C:/따릉이 데이터셋/*.csv')"
   ]
  },
  {
   "cell_type": "code",
   "execution_count": 10,
   "metadata": {},
   "outputs": [
    {
     "name": "stderr",
     "output_type": "stream",
     "text": [
      "<ipython-input-10-0bdaa7eeef9e>:6: ParserWarning: Falling back to the 'python' engine because the 'c' engine does not support regex separators (separators > 1 char and different from '\\s+' are interpreted as regex); you can avoid this warning by specifying engine='python'.\n",
      "  data = pd.read_csv(i,\"r\", \"utf-8\")\n"
     ]
    }
   ],
   "source": [
    "## csv 파일들을 DataFrame으로 불러와서 concat\n",
    "import pandas as pd \n",
    "\n",
    "df= pd.DataFrame()\n",
    "for i in file_path:\n",
    "     data = pd.read_csv(i,\"r\", \"utf-8\")\n",
    "     df = pd.concat([data, df])"
   ]
  },
  {
   "cell_type": "code",
   "execution_count": 11,
   "metadata": {},
   "outputs": [
    {
     "data": {
      "text/plain": [
       "(75070166, 6)"
      ]
     },
     "execution_count": 11,
     "metadata": {},
     "output_type": "execute_result"
    }
   ],
   "source": [
    "df.shape"
   ]
  },
  {
   "cell_type": "code",
   "execution_count": 12,
   "metadata": {},
   "outputs": [],
   "source": [
    "df.to_csv('cp1_df.csv',sep = ',')"
   ]
  }
 ],
 "metadata": {
  "kernelspec": {
   "display_name": "Python 3.8.5 ('base')",
   "language": "python",
   "name": "python3"
  },
  "language_info": {
   "codemirror_mode": {
    "name": "ipython",
    "version": 3
   },
   "file_extension": ".py",
   "mimetype": "text/x-python",
   "name": "python",
   "nbconvert_exporter": "python",
   "pygments_lexer": "ipython3",
   "version": "3.8.5"
  },
  "orig_nbformat": 4,
  "vscode": {
   "interpreter": {
    "hash": "c346b3f7ce428f0755b878e83e93217bea249a83a2fb3cd3333be27ce7f69a75"
   }
  }
 },
 "nbformat": 4,
 "nbformat_minor": 2
}
