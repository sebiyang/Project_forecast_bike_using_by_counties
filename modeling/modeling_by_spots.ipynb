{
 "cells": [
  {
   "cell_type": "code",
   "execution_count": 18,
   "metadata": {},
   "outputs": [
    {
     "name": "stderr",
     "output_type": "stream",
     "text": [
      "c:\\Users\\sebiy\\AppData\\Local\\Programs\\Python\\Python310\\lib\\site-packages\\statsmodels\\tsa\\statespace\\varmax.py:161: EstimationWarning: Estimation of VARMA(p,q) models is not generically robust, due especially to identification issues.\n",
      "  warn('Estimation of VARMA(p,q) models is not generically robust,'\n",
      "c:\\Users\\sebiy\\AppData\\Local\\Programs\\Python\\Python310\\lib\\site-packages\\statsmodels\\tsa\\base\\tsa_model.py:471: ValueWarning: An unsupported index was provided and will be ignored when e.g. forecasting.\n",
      "  self._init_dates(dates, freq)\n",
      "c:\\Users\\sebiy\\AppData\\Local\\Programs\\Python\\Python310\\lib\\site-packages\\statsmodels\\tsa\\statespace\\varmax.py:374: UserWarning: Non-stationary starting autoregressive parameters found. Using zeros as starting parameters.\n",
      "  warn('Non-stationary starting autoregressive parameters'\n",
      "c:\\Users\\sebiy\\AppData\\Local\\Programs\\Python\\Python310\\lib\\site-packages\\statsmodels\\tsa\\statespace\\varmax.py:396: UserWarning: Non-stationary starting moving-average parameters found. Using zeros as starting parameters.\n",
      "  warn('Non-stationary starting moving-average parameters'\n"
     ]
    },
    {
     "ename": "LinAlgError",
     "evalue": "Matrix is not positive definite",
     "output_type": "error",
     "traceback": [
      "\u001b[1;31m---------------------------------------------------------------------------\u001b[0m",
      "\u001b[1;31mLinAlgError\u001b[0m                               Traceback (most recent call last)",
      "\u001b[1;32mUntitled-1.ipynb 셀 1\u001b[0m in \u001b[0;36m<cell line: 28>\u001b[1;34m()\u001b[0m\n\u001b[0;32m     <a href='vscode-notebook-cell:Untitled-1.ipynb?jupyter-notebook#W0sdW50aXRsZWQ%3D?line=25'>26</a>\u001b[0m \u001b[39m# fit model\u001b[39;00m\n\u001b[0;32m     <a href='vscode-notebook-cell:Untitled-1.ipynb?jupyter-notebook#W0sdW50aXRsZWQ%3D?line=26'>27</a>\u001b[0m model \u001b[39m=\u001b[39m VARMAX(train, order\u001b[39m=\u001b[39m(\u001b[39m1\u001b[39m, \u001b[39m1\u001b[39m))\n\u001b[1;32m---> <a href='vscode-notebook-cell:Untitled-1.ipynb?jupyter-notebook#W0sdW50aXRsZWQ%3D?line=27'>28</a>\u001b[0m model_fit \u001b[39m=\u001b[39m model\u001b[39m.\u001b[39;49mfit()\n\u001b[0;32m     <a href='vscode-notebook-cell:Untitled-1.ipynb?jupyter-notebook#W0sdW50aXRsZWQ%3D?line=29'>30</a>\u001b[0m \u001b[39m# make prediction\u001b[39;00m\n\u001b[0;32m     <a href='vscode-notebook-cell:Untitled-1.ipynb?jupyter-notebook#W0sdW50aXRsZWQ%3D?line=30'>31</a>\u001b[0m yhat \u001b[39m=\u001b[39m model_fit\u001b[39m.\u001b[39mforecast()\n",
      "File \u001b[1;32mc:\\Users\\sebiy\\AppData\\Local\\Programs\\Python\\Python310\\lib\\site-packages\\statsmodels\\tsa\\statespace\\mlemodel.py:650\u001b[0m, in \u001b[0;36mMLEModel.fit\u001b[1;34m(self, start_params, transformed, includes_fixed, cov_type, cov_kwds, method, maxiter, full_output, disp, callback, return_params, optim_score, optim_complex_step, optim_hessian, flags, low_memory, **kwargs)\u001b[0m\n\u001b[0;32m    530\u001b[0m \u001b[39m\"\"\"\u001b[39;00m\n\u001b[0;32m    531\u001b[0m \u001b[39mFits the model by maximum likelihood via Kalman filter.\u001b[39;00m\n\u001b[0;32m    532\u001b[0m \n\u001b[1;32m   (...)\u001b[0m\n\u001b[0;32m    647\u001b[0m \u001b[39mstatsmodels.tsa.statespace.structural.UnobservedComponentsResults\u001b[39;00m\n\u001b[0;32m    648\u001b[0m \u001b[39m\"\"\"\u001b[39;00m\n\u001b[0;32m    649\u001b[0m \u001b[39mif\u001b[39;00m start_params \u001b[39mis\u001b[39;00m \u001b[39mNone\u001b[39;00m:\n\u001b[1;32m--> 650\u001b[0m     start_params \u001b[39m=\u001b[39m \u001b[39mself\u001b[39;49m\u001b[39m.\u001b[39;49mstart_params\n\u001b[0;32m    651\u001b[0m     transformed \u001b[39m=\u001b[39m \u001b[39mTrue\u001b[39;00m\n\u001b[0;32m    652\u001b[0m     includes_fixed \u001b[39m=\u001b[39m \u001b[39mTrue\u001b[39;00m\n",
      "File \u001b[1;32mc:\\Users\\sebiy\\AppData\\Local\\Programs\\Python\\Python310\\lib\\site-packages\\statsmodels\\tsa\\statespace\\varmax.py:435\u001b[0m, in \u001b[0;36mVARMAX.start_params\u001b[1;34m(self)\u001b[0m\n\u001b[0;32m    433\u001b[0m     params[\u001b[39mself\u001b[39m\u001b[39m.\u001b[39m_params_state_cov] \u001b[39m=\u001b[39m res_ar\u001b[39m.\u001b[39msigma_u\u001b[39m.\u001b[39mdiagonal()\n\u001b[0;32m    434\u001b[0m \u001b[39melif\u001b[39;00m \u001b[39mself\u001b[39m\u001b[39m.\u001b[39merror_cov_type \u001b[39m==\u001b[39m \u001b[39m'\u001b[39m\u001b[39munstructured\u001b[39m\u001b[39m'\u001b[39m:\n\u001b[1;32m--> 435\u001b[0m     cov_factor \u001b[39m=\u001b[39m np\u001b[39m.\u001b[39;49mlinalg\u001b[39m.\u001b[39;49mcholesky(res_ar\u001b[39m.\u001b[39;49msigma_u)\n\u001b[0;32m    436\u001b[0m     params[\u001b[39mself\u001b[39m\u001b[39m.\u001b[39m_params_state_cov] \u001b[39m=\u001b[39m (\n\u001b[0;32m    437\u001b[0m         cov_factor[\u001b[39mself\u001b[39m\u001b[39m.\u001b[39m_idx_lower_state_cov]\u001b[39m.\u001b[39mravel())\n\u001b[0;32m    439\u001b[0m \u001b[39m# 5. Measurement error variance terms\u001b[39;00m\n",
      "File \u001b[1;32m<__array_function__ internals>:180\u001b[0m, in \u001b[0;36mcholesky\u001b[1;34m(*args, **kwargs)\u001b[0m\n",
      "File \u001b[1;32mc:\\Users\\sebiy\\AppData\\Local\\Programs\\Python\\Python310\\lib\\site-packages\\numpy\\linalg\\linalg.py:763\u001b[0m, in \u001b[0;36mcholesky\u001b[1;34m(a)\u001b[0m\n\u001b[0;32m    761\u001b[0m t, result_t \u001b[39m=\u001b[39m _commonType(a)\n\u001b[0;32m    762\u001b[0m signature \u001b[39m=\u001b[39m \u001b[39m'\u001b[39m\u001b[39mD->D\u001b[39m\u001b[39m'\u001b[39m \u001b[39mif\u001b[39;00m isComplexType(t) \u001b[39melse\u001b[39;00m \u001b[39m'\u001b[39m\u001b[39md->d\u001b[39m\u001b[39m'\u001b[39m\n\u001b[1;32m--> 763\u001b[0m r \u001b[39m=\u001b[39m gufunc(a, signature\u001b[39m=\u001b[39;49msignature, extobj\u001b[39m=\u001b[39;49mextobj)\n\u001b[0;32m    764\u001b[0m \u001b[39mreturn\u001b[39;00m wrap(r\u001b[39m.\u001b[39mastype(result_t, copy\u001b[39m=\u001b[39m\u001b[39mFalse\u001b[39;00m))\n",
      "File \u001b[1;32mc:\\Users\\sebiy\\AppData\\Local\\Programs\\Python\\Python310\\lib\\site-packages\\numpy\\linalg\\linalg.py:91\u001b[0m, in \u001b[0;36m_raise_linalgerror_nonposdef\u001b[1;34m(err, flag)\u001b[0m\n\u001b[0;32m     90\u001b[0m \u001b[39mdef\u001b[39;00m \u001b[39m_raise_linalgerror_nonposdef\u001b[39m(err, flag):\n\u001b[1;32m---> 91\u001b[0m     \u001b[39mraise\u001b[39;00m LinAlgError(\u001b[39m\"\u001b[39m\u001b[39mMatrix is not positive definite\u001b[39m\u001b[39m\"\u001b[39m)\n",
      "\u001b[1;31mLinAlgError\u001b[0m: Matrix is not positive definite"
     ]
    }
   ],
   "source": [
    "import pandas as pd \n",
    "import numpy as np\n",
    "import seaborn as sns\n",
    "import matplotlib.pyplot as plt\n",
    "import pandas as pd\n",
    "\n",
    "import statsmodels.api as sm\n",
    "from statsmodels.tsa.api import VAR\n",
    "from statsmodels.tsa.stattools import adfuller \n",
    "from statsmodels.tsa.statespace.varmax import VARMAX\n",
    "\n",
    "\n",
    "df= pd.read_csv(r'C:\\Users\\sebiy\\cp1\\cp1_final_by_spots.csv')\n",
    "df.head()\n",
    "df = df.set_index('대여일자')\n",
    "\n",
    "df = df.astype('float')\n",
    "df = df.astype('int')\n",
    "\n",
    "df_diff = df.diff().dropna() #1차 차분\n",
    "\n",
    "train = df_diff.iloc[:-30,:]   #train test split 한 달치 데이터가 테스트 데이터\n",
    "test = df_diff.iloc[-30:,:]\n",
    "\n",
    "\n",
    "# fit model\n",
    "model = VARMAX(train, order=(1, 1))\n",
    "model_fit = model.fit()\n",
    "\n",
    "# make prediction\n",
    "yhat = model_fit.forecast()\n",
    "print(yhat)"
   ]
  }
 ],
 "metadata": {
  "kernelspec": {
   "display_name": "Python 3.10.5 64-bit",
   "language": "python",
   "name": "python3"
  },
  "language_info": {
   "codemirror_mode": {
    "name": "ipython",
    "version": 3
   },
   "file_extension": ".py",
   "mimetype": "text/x-python",
   "name": "python",
   "nbconvert_exporter": "python",
   "pygments_lexer": "ipython3",
   "version": "3.10.5"
  },
  "orig_nbformat": 4,
  "vscode": {
   "interpreter": {
    "hash": "fb6874865dc95fb451d3eecdf0907c5939f32dc93fe0193875f6bcb28ae4bf35"
   }
  }
 },
 "nbformat": 4,
 "nbformat_minor": 2
}
